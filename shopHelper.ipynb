{
 "cells": [
  {
   "cell_type": "code",
   "execution_count": 11,
   "id": "dbb39b37-f802-457d-baf2-5d197d1843f4",
   "metadata": {},
   "outputs": [],
   "source": [
    "import os\n",
    "import json\n",
    "from dotenv import load_dotenv\n",
    "from openai import OpenAI\n",
    "import gradio as gr\n",
    "from loadItems import items_list\n"
   ]
  },
  {
   "cell_type": "code",
   "execution_count": 12,
   "id": "a33c3047-d204-4f76-ba78-2d469acdbb24",
   "metadata": {},
   "outputs": [],
   "source": [
    "load_dotenv()\n",
    "os.environ['OPENAI_API_KEY'] = os.getenv('OPENAI_API_KEY', 'your-key-if-not-using-env')\n",
    "MODEL = \"gpt-4o-mini\"\n",
    "openai = OpenAI()"
   ]
  },
  {
   "cell_type": "code",
   "execution_count": 13,
   "id": "0e77d368-feb4-4055-870e-28ebaeffd907",
   "metadata": {},
   "outputs": [],
   "source": [
    "system_message = \"You are a courteous and helpful assistant for Saugaat Stores, a grocery store. \"\n",
    "system_message += \"Provide clear, accurate answers in no more than one sentence. \"\n",
    "system_message += \"If you are unsure of an answer, politely indicate that you do not know.\"\n"
   ]
  },
  {
   "cell_type": "code",
   "execution_count": 14,
   "id": "5f5b9e91-0227-4994-9955-07e7866142e8",
   "metadata": {},
   "outputs": [
    {
     "name": "stderr",
     "output_type": "stream",
     "text": [
      "C:\\Users\\Public\\anaconda3\\envs\\llms\\Lib\\site-packages\\gradio\\components\\chatbot.py:229: UserWarning: The 'tuples' format for chatbot messages is deprecated and will be removed in a future version of Gradio. Please set type='messages' instead, which uses openai-style 'role' and 'content' keys.\n",
      "  warnings.warn(\n"
     ]
    },
    {
     "name": "stdout",
     "output_type": "stream",
     "text": [
      "* Running on local URL:  http://127.0.0.1:7860\n",
      "\n",
      "To create a public link, set `share=True` in `launch()`.\n"
     ]
    },
    {
     "data": {
      "text/html": [
       "<div><iframe src=\"http://127.0.0.1:7860/\" width=\"100%\" height=\"500\" allow=\"autoplay; camera; microphone; clipboard-read; clipboard-write;\" frameborder=\"0\" allowfullscreen></iframe></div>"
      ],
      "text/plain": [
       "<IPython.core.display.HTML object>"
      ]
     },
     "metadata": {},
     "output_type": "display_data"
    },
    {
     "data": {
      "text/plain": []
     },
     "execution_count": 14,
     "metadata": {},
     "output_type": "execute_result"
    }
   ],
   "source": [
    "def chat(message,history):\n",
    "    messages = [{\"role\":\"system\",\"content\":system_message}]\n",
    "    for human_res,assistant_res in history:\n",
    "        messages.append({\"role\":\"user\",\"content\":human_res})\n",
    "        messages.append({\"role\":\"assistant\",\"content\":assistant_res})\n",
    "    messages.append({\"role\":\"user\",\"content\":message})\n",
    "    response = openai.chat.completions.create(model=MODEL,messages=messages)\n",
    "    return response.choices[0].message.content\n",
    "\n",
    "gr.ChatInterface(fn=chat).launch()"
   ]
  },
  {
   "cell_type": "code",
   "execution_count": 15,
   "id": "79360b46-7401-4985-b486-4a6ef32c7512",
   "metadata": {},
   "outputs": [
    {
     "name": "stdout",
     "output_type": "stream",
     "text": [
      "{'basmati rice': '₹120', 'atta': '₹40', 'sugar': '₹45', 'salt': '₹20', 'tur dal': '₹110', 'moong dal': '₹130', 'chana dal': '₹80', 'toor dal': '₹120', 'besan': '₹60', 'maida': '₹35', 'poha': '₹50', 'rava': '₹40', 'sooji': '₹45', 'mustard oil': '₹150', 'sunflower oil': '₹160', 'olive oil': '₹300', 'ghee': '₹280', 'butter': '₹50', 'milk': '₹50', 'curd': '₹40', 'paneer': '₹80', 'eggs': '₹70', 'chicken': '₹220', 'mutton': '₹650', 'fish': '₹300', 'apples': '₹180', 'bananas': '₹60', 'oranges': '₹100', 'mangoes': '₹200', 'grapes': '₹120', 'papaya': '₹40', 'onions': '₹30', 'tomatoes': '₹40', 'potatoes': '₹25', 'garlic': '₹30', 'ginger': '₹35', 'green chillies': '₹15', 'coriander leaves': '₹10', 'spinach': '₹20', 'carrots': '₹40', 'capsicum': '₹70', 'cauliflower': '₹30', 'cabbage': '₹20', 'bitter gourd': '₹50', 'lemon': '₹40', 'green peas': '₹100', 'toothpaste': '₹50', 'shampoo': '₹120', 'soap': '₹30', 'dishwashing liquid': '₹90', 'detergent powder': '₹70', 'toilet cleaner': '₹60'}\n"
     ]
    }
   ],
   "source": [
    "print(items_list)"
   ]
  },
  {
   "cell_type": "code",
   "execution_count": 16,
   "id": "dabfcfb3-f913-4d69-83da-bdccdfea0091",
   "metadata": {},
   "outputs": [],
   "source": [
    "def get_item_price(item_name):\n",
    "    print(f\"Tool get_item_price called for {item_name}\")\n",
    "    item = item_name.lower()\n",
    "    return items_list.get(item,\"Item not found\")"
   ]
  },
  {
   "cell_type": "code",
   "execution_count": 17,
   "id": "1b32664d-284f-4e94-8b70-d249917cbf95",
   "metadata": {},
   "outputs": [
    {
     "name": "stdout",
     "output_type": "stream",
     "text": [
      "Tool get_item_price called for Cabbage\n"
     ]
    },
    {
     "data": {
      "text/plain": [
       "'₹20'"
      ]
     },
     "execution_count": 17,
     "metadata": {},
     "output_type": "execute_result"
    }
   ],
   "source": [
    "get_item_price(\"Cabbage\")"
   ]
  },
  {
   "cell_type": "code",
   "execution_count": 18,
   "id": "e75e2b54-3eaf-40ed-96d9-46826942fdfe",
   "metadata": {},
   "outputs": [],
   "source": [
    "price_function = {\n",
    "    \"name\": \"get_item_price\",\n",
    "    \"description\": \"Retrieve the price of an item from the grocery store. Use this function whenever you need to know the item's price, for example, when a customer asks 'How much is the cost of tomatoes?'\",\n",
    "    \"parameters\": {\n",
    "        \"type\": \"object\",\n",
    "        \"properties\": {\n",
    "            \"item_name\": {\n",
    "                \"type\": \"string\",\n",
    "                \"description\": \"The name of the item the customer wants to buy.\"\n",
    "            }\n",
    "        },\n",
    "        \"required\": [\"item_name\"],\n",
    "        \"additionalProperties\": False\n",
    "    }\n",
    "}\n"
   ]
  },
  {
   "cell_type": "code",
   "execution_count": 19,
   "id": "45ff7493-bf98-4876-ab1a-589741ad3551",
   "metadata": {},
   "outputs": [],
   "source": [
    "tools = [{\"type\":\"function\",\"function\":price_function}]"
   ]
  },
  {
   "cell_type": "code",
   "execution_count": 30,
   "id": "af83f232-b9f6-4e14-82eb-b8d62bdcb310",
   "metadata": {},
   "outputs": [],
   "source": [
    "def chat(message, history):\n",
    "    messages = [{\"role\": \"system\", \"content\": system_message}]\n",
    "    for human, assistant in history:\n",
    "        messages.append({\"role\": \"user\", \"content\": human})\n",
    "        messages.append({\"role\": \"assistant\", \"content\": assistant})\n",
    "    messages.append({\"role\": \"user\", \"content\": message})\n",
    "    response = openai.chat.completions.create(model=MODEL, messages=messages, tools=tools)\n",
    "\n",
    "    if response.choices[0].finish_reason == \"tool_calls\":\n",
    "        message = response.choices[0].message\n",
    "        response,item_name = handle_tool_call(message)\n",
    "        messages.append(message)\n",
    "        messages.append(response)\n",
    "        response = openai.chat.completions.create(model = MODEL,messages=messages)\n",
    "\n",
    "    return response.choices[0].message.content"
   ]
  },
  {
   "cell_type": "code",
   "execution_count": 31,
   "id": "fabacad2-a528-4de1-b7e9-de18b1fb7804",
   "metadata": {},
   "outputs": [],
   "source": [
    "import json\n",
    "\n",
    "def handle_tool_call(message):\n",
    "    tool_call = message.tool_calls[0]\n",
    "    arguments = json.loads(tool_call.function.arguments)\n",
    "    item_name = arguments.get('item_name')\n",
    "    price = get_item_price(item_name)\n",
    "    \n",
    "    response = {\n",
    "        \"role\": \"tool\",\n",
    "        \"content\": json.dumps({\"item_name\": item_name, \"price\": price}),\n",
    "        \"tool_call_id\": message.tool_calls[0].id\n",
    "    }\n",
    "    return response,item_name\n"
   ]
  },
  {
   "cell_type": "code",
   "execution_count": 32,
   "id": "a0f91abc-5bb0-47eb-8c9e-f10e874011c1",
   "metadata": {},
   "outputs": [
    {
     "name": "stderr",
     "output_type": "stream",
     "text": [
      "C:\\Users\\Public\\anaconda3\\envs\\llms\\Lib\\site-packages\\gradio\\components\\chatbot.py:229: UserWarning: The 'tuples' format for chatbot messages is deprecated and will be removed in a future version of Gradio. Please set type='messages' instead, which uses openai-style 'role' and 'content' keys.\n",
      "  warnings.warn(\n"
     ]
    },
    {
     "name": "stdout",
     "output_type": "stream",
     "text": [
      "* Running on local URL:  http://127.0.0.1:7865\n",
      "\n",
      "To create a public link, set `share=True` in `launch()`.\n"
     ]
    },
    {
     "data": {
      "text/html": [
       "<div><iframe src=\"http://127.0.0.1:7865/\" width=\"100%\" height=\"500\" allow=\"autoplay; camera; microphone; clipboard-read; clipboard-write;\" frameborder=\"0\" allowfullscreen></iframe></div>"
      ],
      "text/plain": [
       "<IPython.core.display.HTML object>"
      ]
     },
     "metadata": {},
     "output_type": "display_data"
    },
    {
     "data": {
      "text/plain": []
     },
     "execution_count": 32,
     "metadata": {},
     "output_type": "execute_result"
    },
    {
     "name": "stdout",
     "output_type": "stream",
     "text": [
      "Tool get_item_price called for cabbage\n"
     ]
    }
   ],
   "source": [
    "gr.ChatInterface(fn=chat).launch()"
   ]
  },
  {
   "cell_type": "code",
   "execution_count": null,
   "id": "3ed36a98-2574-46ef-ba50-3be455c5e888",
   "metadata": {},
   "outputs": [],
   "source": []
  },
  {
   "cell_type": "code",
   "execution_count": null,
   "id": "5ad43534-722a-4ab8-bfaa-95989d733880",
   "metadata": {},
   "outputs": [],
   "source": []
  }
 ],
 "metadata": {
  "kernelspec": {
   "display_name": "Python 3 (ipykernel)",
   "language": "python",
   "name": "python3"
  },
  "language_info": {
   "codemirror_mode": {
    "name": "ipython",
    "version": 3
   },
   "file_extension": ".py",
   "mimetype": "text/x-python",
   "name": "python",
   "nbconvert_exporter": "python",
   "pygments_lexer": "ipython3",
   "version": "3.11.10"
  }
 },
 "nbformat": 4,
 "nbformat_minor": 5
}
